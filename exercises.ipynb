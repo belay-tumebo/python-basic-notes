{
 "cells": [
  {
   "cell_type": "code",
   "execution_count": null,
   "id": "bdd3d00c",
   "metadata": {},
   "outputs": [],
   "source": [
    "def dash_stringify(word_list):\n",
    "    \"\"\"Given a list of word strings, return a single string with all the\n",
    "        strings together, with ' - ' in between the words.\"\""
   ]
  },
  {
   "cell_type": "code",
   "execution_count": null,
   "id": "0a16b167",
   "metadata": {},
   "outputs": [],
   "source": [
    "def dict_from_triple(tuples):\n",
    "    \"\"\"Given a list of 3-tuples, return a dictionary whose keys are the first\n",
    "        elements of the tuples, and the values are tuples containing the\n",
    "        corresponding second and third elements of the tuples.\"\"\"\n",
    "   "
   ]
  },
  {
   "cell_type": "code",
   "execution_count": null,
   "id": "42a56270",
   "metadata": {},
   "outputs": [],
   "source": [
    "def get_oldest(date1, date2):\n",
    "    \"\"\"Given 2 date strings in \"MM/DD/YYYY\" format, return oldest one.\"\"\""
   ]
  },
  {
   "cell_type": "code",
   "execution_count": null,
   "id": "03bfe536",
   "metadata": {},
   "outputs": [],
   "source": [
    "def perfect_square(seq):\n",
    "# Other: Take a list of numbers and return a subset of the list that are perfect square\n"
   ]
  },
  {
   "cell_type": "code",
   "execution_count": null,
   "id": "dc4591df",
   "metadata": {},
   "outputs": [],
   "source": [
    "def combine_lists(one, two):\n",
    "    \"\"\"Take 2 lists as input and return a new list consisting of the elements\n",
    "        of the first list followed by the elements of the second list.\"\"\"\n",
    "    "
   ]
  },
  {
   "cell_type": "code",
   "execution_count": null,
   "id": "03375f20",
   "metadata": {},
   "outputs": [],
   "source": [
    "def last_n_elements(sequence, n):\n",
    "    \"\"\"Given a sequence and a number n, return the last n elements of the\n",
    "        sequence.\"\"\"\n",
    "    "
   ]
  },
  {
   "cell_type": "code",
   "execution_count": null,
   "id": "20b1441c",
   "metadata": {},
   "outputs": [],
   "source": [
    "def last_n_reversed(sequence, n):\n",
    "    \"\"\"Given a sequence and a number n, return the last n elements of the\n",
    "        sequence in reversed order.\"\"\"\n",
    "    "
   ]
  },
  {
   "cell_type": "code",
   "execution_count": null,
   "id": "66910122",
   "metadata": {},
   "outputs": [],
   "source": [
    "def power_list(numbers):\n",
    "    \"\"\"Given a list of numbers, return a new list where each element is the\n",
    "        corresponding element of the list to the power of its list index.\n",
    "        e.g. [2,4,5] =>[1, 4, 25]\n",
    "        \"\"\"\n"
   ]
  },
  {
   "cell_type": "code",
   "execution_count": null,
   "id": "ad036a77",
   "metadata": {},
   "outputs": [],
   "source": [
    "def rotate_list(some_list):\n",
    "\"\"\"Take a list as input and remove the first item from the list and add it\n",
    "        to the end of the list. Return the item moved.\"\"\""
   ]
  },
  {
   "cell_type": "code",
   "execution_count": null,
   "id": "b79f6b22",
   "metadata": {},
   "outputs": [],
   "source": [
    "def get_vowel_names(names):\n",
    "    \"\"\"Return a list containing all names given, that start with a vowel.\"\"\""
   ]
  },
  {
   "cell_type": "code",
   "execution_count": null,
   "id": "7d42fbd1",
   "metadata": {},
   "outputs": [],
   "source": [
    "def get_word_codes(words):\n",
    "    \"\"\"Given a list of words, return a dictionary where the words are keys,\n",
    "        and the value for each key is a list of the character codes of the\n",
    "        letters of the word that is its key.\"\"\"\n",
    "    "
   ]
  },
  {
   "cell_type": "code",
   "execution_count": null,
   "id": "caca5dfc",
   "metadata": {},
   "outputs": [],
   "source": [
    "def words_containing(sentence, letter):\n",
    "    \"\"\" Given a sentence, returns list of words that contain the letter.\n",
    "    Letter given is lowercase. Sentence can be mixed case. The case\n",
    "    should be ignored for searching, but the returned words should\n",
    "    maintain their original case.\n",
    "    \"\"\""
   ]
  },
  {
   "cell_type": "code",
   "execution_count": null,
   "id": "2ce35a53",
   "metadata": {},
   "outputs": [],
   "source": [
    "def len_safe(object):\n",
    "    \"\"\"Return length of object or -1 if object has no length.\n",
    "    So no matter what object it is given, an error should never\n",
    "    be raised to the user. Returned value -1 is a number,\n",
    "    not a string.\n",
    "    \"\"\""
   ]
  },
  {
   "cell_type": "code",
   "execution_count": null,
   "id": "8baf4b21",
   "metadata": {},
   "outputs": [],
   "source": [
    "def unique(sequence):\n",
    "    \"\"\"Yield elements of sequence in order, skipping duplicate values.\"\"\""
   ]
  },
  {
   "cell_type": "code",
   "execution_count": null,
   "id": "500ee9f3",
   "metadata": {},
   "outputs": [],
   "source": [
    "def separate(input_str, sort=False):\n",
    "    \"\"\"Return a list of all characters in given string.\n",
    "        If keyword argument sort is True, then return them sorted.\"\"\""
   ]
  },
  {
   "cell_type": "code",
   "execution_count": null,
   "id": "a1e584d5",
   "metadata": {},
   "outputs": [],
   "source": [
    "def number_of_vowels(string):\n",
    "    \"\"\"Returns the number of vowels in the input string.\"\"\""
   ]
  },
  {
   "cell_type": "code",
   "execution_count": null,
   "id": "2530071e",
   "metadata": {},
   "outputs": [],
   "source": [
    "def special_nums():\n",
    "    \"\"\"Return a generator that yields, in order, the numbers that:\n",
    "        Are in the range from 1 to 300 and are evenly divisible by 10 and 6.\"\"\"\n"
   ]
  },
  {
   "cell_type": "code",
   "execution_count": null,
   "id": "2884076c",
   "metadata": {},
   "outputs": [],
   "source": [
    "def evens(sequence):\n",
    "    \"\"\"Return a generator that returns all the input numbers that are even.\"\"\""
   ]
  },
  {
   "cell_type": "code",
   "execution_count": null,
   "id": "65856a69",
   "metadata": {},
   "outputs": [],
   "source": [
    "def continuous1234():\n",
    "    \"\"\"Return a generator that returns the numbers 1, 2, 3, 4 continuously. \n",
    "    Use cycle from itertools\n",
    "    \"\"\""
   ]
  },
  {
   "cell_type": "code",
   "execution_count": null,
   "id": "318c8d40",
   "metadata": {},
   "outputs": [],
   "source": [
    "def reverse_iter(iterable):\n",
    "    \"\"\"Return a generator that yields items from iterable in reverse order\"\"\""
   ]
  },
  {
   "cell_type": "code",
   "execution_count": null,
   "id": "90812568",
   "metadata": {},
   "outputs": [],
   "source": [
    "iter(num) == num"
   ]
  },
  {
   "cell_type": "code",
   "execution_count": null,
   "id": "80fe3914",
   "metadata": {},
   "outputs": [],
   "source": [
    "import datetime\n",
    "class Vehicle:\n",
    "    \"\"\"A simple class representing a vehicle\"\"\"\n",
    "    def __init__(self, make, model, year, price, color):\n",
    "        \"\"\"Initialize the Point instance\"\"\"\n",
    "        if not isinstance(year, int):\n",
    "            raise TypeError(\"Input year must be an integer!\")\n",
    "        if not (isinstance(price, int) or isinstance(price, float)):\n",
    "            raise TypeError(\"Input price must be a number!\")\n",
    "        self.make = make\n",
    "        self.model = model\n",
    "        self.year = year\n",
    "        self.price = price\n",
    "        self.color = color\n",
    "\n",
    "    def __repr__(self):\n",
    "        #return 'Vehicle(\"{}\", \"{}\", {}, {:.2f}, \"{}\")'\\\n",
    "        #    .format(self.make, self.model, self.year, self.price, self.color)\n",
    "        return f'Vehicle{self.make}, {self.model}, \\\n",
    "            {self.year}, {self.price :.2f}, {self.color}'\n",
    "\n",
    "    def __str__(self):\n",
    "        return 'This is a {} {} {} {} costing ${:.2f}'.\\\n",
    "            format(self.year, self.color, self.make, self.model, self.price)\n",
    "        #return f'This is a {self.year} {self.color} {self.make} {self.model} {self.price}' \n",
    "\n",
    "    @property\n",
    "    def current_year(self):\n",
    "        \"\"\"Return the current year\"\"\"\n",
    "        return datetime.datetime.now().year\n",
    "\n",
    "    #@property\n",
    "    def current_value(self):\n",
    "        \"\"\"Return the current year\"\"\"\n",
    "        age = self.current_year - self.year + 1\n",
    "        if age > 7:\n",
    "            return self.price * .1\n",
    "        else:\n",
    "            return self.price - self.price * .125 * age\n",
    "    property.getter(current_year)"
   ]
  },
  {
   "cell_type": "code",
   "execution_count": null,
   "id": "86faa60b",
   "metadata": {},
   "outputs": [],
   "source": [
    "class Circle:\n",
    "    \"\"\"Class to create Circle objects\"\"\"\n",
    "    _radius = None\n",
    "\n",
    "    def __init__(self, radius=1):\n",
    "        \"\"\"Circle initializer\"\"\"\n",
    "        self.history = []\n",
    "        self.radius = radius\n",
    "\n",
    "    def __repr__(self):\n",
    "        \"\"\"Developer-friendly printing\"\"\"\n",
    "        return f'Circle(radius={self.radius})'\n",
    "\n",
    "    def __str__(self):\n",
    "        \"\"\"User-friendly printing\"\"\"\n",
    "        return f'Circle with a radius of {self.radius}'\n",
    "\n",
    "    @property\n",
    "    def radius(self):\n",
    "        \"\"\"Returns the current value of radius\"\"\"\n",
    "        return self._radius\n",
    "\n",
    "    @radius.setter\n",
    "    def radius(self, radius):\n",
    "        \"\"\"Set the radius\"\"\"\n",
    "        if radius < 0:\n",
    "            raise ValueError(\"Radius cannot be negative!\")\n",
    "        self._radius = radius\n",
    "        self.history.append(self._radius)\n",
    "\n",
    "    @property\n",
    "    def area(self):\n",
    "        \"\"\"Calculate and return the area of the Circle\"\"\"\n",
    "        return math.pi*self.radius**2\n",
    "\n",
    "    @property\n",
    "    def diameter(self):\n",
    "        \"\"\"Calculate and return the diameter of the Circle\"\"\"\n",
    "        return self.radius*2\n",
    "\n",
    "    @diameter.setter\n",
    "    def diameter(self, diameter):\n",
    "        \"\"\"Set the diameter\"\"\"\n",
    "        self.radius = diameter/2\n"
   ]
  },
  {
   "cell_type": "code",
   "execution_count": null,
   "id": "70cc9fe7",
   "metadata": {},
   "outputs": [],
   "source": [
    "#c = Circle()\n",
    "#c.history\n",
    "#repr(c)\n",
    "#print(c)\n",
    "#c.radius = 2\n",
    "#c.diameter= 3\n",
    "#c.radius\n",
    "#c.history\n",
    "#c2 = Circle(radius =2)\n",
    "#print(c2)\n",
    "#c2.radius = 2\n",
    "c = Circle(10)\n",
    "print(c)\n"
   ]
  },
  {
   "cell_type": "code",
   "execution_count": null,
   "id": "18e5d5d0",
   "metadata": {},
   "outputs": [],
   "source": [
    "car = Vehicle('','',2023,80000,'')\n",
    "car.make = 'Rivian'\n",
    "car.model = 'R1S'\n",
    "car.color = 'Blue'\n",
    "#print(car)\n",
    "#str(car)\n",
    "print(car.current_value)\n",
    "print(car.current_year)"
   ]
  }
 ],
 "metadata": {
  "kernelspec": {
   "display_name": "Python 3 (ipykernel)",
   "language": "python",
   "name": "python3"
  },
  "language_info": {
   "codemirror_mode": {
    "name": "ipython",
    "version": 3
   },
   "file_extension": ".py",
   "mimetype": "text/x-python",
   "name": "python",
   "nbconvert_exporter": "python",
   "pygments_lexer": "ipython3",
   "version": "3.10.8"
  }
 },
 "nbformat": 4,
 "nbformat_minor": 5
}
