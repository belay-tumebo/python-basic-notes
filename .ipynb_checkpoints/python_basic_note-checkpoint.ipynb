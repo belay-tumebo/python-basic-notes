{
 "cells": [
  {
   "cell_type": "markdown",
   "id": "75dc47e6",
   "metadata": {},
   "source": [
    "### Basics"
   ]
  },
  {
   "cell_type": "markdown",
   "id": "de42e274",
   "metadata": {},
   "source": [
    "#### primitive data types"
   ]
  },
  {
   "cell_type": "markdown",
   "id": "c782cad4",
   "metadata": {},
   "source": [
    "###### Numbers"
   ]
  },
  {
   "cell_type": "code",
   "execution_count": null,
   "id": "40bcfc3b",
   "metadata": {},
   "outputs": [],
   "source": [
    "# immutables numbers, strings, tuples\n",
    "\n",
    "# int\n",
    "age = 32\n",
    "print(f'the age of the tree is {age:d} years')\n",
    "\n",
    "# float\n",
    "pi =3.141592653589793\n",
    "print(f'the first 4 digit of pi is {pi:.4f}')\n",
    "\n",
    "# complex\n",
    "coord1 = complex(5 + 2j)\n",
    "coord2 = complex(6 + 3j)\n",
    "print(coord1 + coord2)\n",
    "\n",
    "print(type(bin(64)))"
   ]
  },
  {
   "cell_type": "markdown",
   "id": "fbd6e7c1",
   "metadata": {},
   "source": [
    "#### special types"
   ]
  },
  {
   "cell_type": "code",
   "execution_count": null,
   "id": "dd5e8176",
   "metadata": {},
   "outputs": [],
   "source": [
    "# bool\n",
    "is_alive = True\n",
    "is_native = False\n",
    "print(is_alive, is_native)\n",
    "\n",
    "# None\n",
    "area = None\n",
    "if area:\n",
    "    print('area has value')\n",
    "else:\n",
    "    print('area is empty')"
   ]
  },
  {
   "cell_type": "markdown",
   "id": "b2c343b4",
   "metadata": {},
   "source": [
    "#### string"
   ]
  },
  {
   "cell_type": "code",
   "execution_count": null,
   "id": "acc6f8ea",
   "metadata": {},
   "outputs": [],
   "source": [
    "s = \"Hello World!\" # string\n",
    "print(s.split(' ')[1]) # s.split()\n",
    "print(s.upper()) # s.upper()\n",
    "print (s.swapcase())\n",
    "\n",
    "# other string methods: capitalize, encode, endswith, find, format, isalnum, isalpha, isdecimal, isdigit, \n",
    "# islower, lower, isnumeric, istitle, isupper, join, strip, replace, rjust, ljust, startswith, swapcase, title\n"
   ]
  },
  {
   "cell_type": "markdown",
   "id": "ee5f9d53",
   "metadata": {},
   "source": [
    "#### List"
   ]
  },
  {
   "cell_type": "code",
   "execution_count": null,
   "id": "eec4412d",
   "metadata": {},
   "outputs": [],
   "source": [
    "n =  ['Foo', 'Bar', 7585, True, 'Orange', None, 3.14, 32]\n",
    "\n",
    "print(len(n))\n",
    "\n",
    "n.append('Joe')\n",
    "n.pop()\n",
    "n.remove(None)\n",
    "n.reverse()\n",
    "\n",
    "print(n)\n",
    "# others functions: extend, insert(i, x), remove, clear, count('Belay'), sort(reverse=False),reverse, \n"
   ]
  },
  {
   "cell_type": "markdown",
   "id": "329498b5",
   "metadata": {},
   "source": [
    "#### set"
   ]
  },
  {
   "cell_type": "code",
   "execution_count": null,
   "id": "63de01df",
   "metadata": {},
   "outputs": [],
   "source": [
    "A = {'apple', 'orange', 'apple', 'pear', 'orange', 'banana'}\n",
    "B = {'apple', 'mango', 'apple', 'pear', 'mango', 'lemon'}\n",
    "C = {1, 0, 1, 2, 2, 3}\n",
    "C.add(9)\n",
    "C.add(8)\n",
    "C.remove(9)\n",
    "print(A)\n",
    "print(C)"
   ]
  },
  {
   "cell_type": "code",
   "execution_count": null,
   "id": "54dbdbd2",
   "metadata": {},
   "outputs": [],
   "source": [
    "v = set([1,2,1,2,1,2,1])\n",
    "print(v)"
   ]
  },
  {
   "cell_type": "code",
   "execution_count": null,
   "id": "03b2d508",
   "metadata": {},
   "outputs": [],
   "source": [
    "print(A-B) # A less B\n",
    "print(B-A) # B less A\n",
    "print(A | B) # A union B\n",
    "print(A & B) # A intersection B\n",
    "print(A ^ B) # symetric difference between A and B i.e (A-B) | (B-A) also same as (A | B) - (A & B)\n",
    "print(C)\n"
   ]
  },
  {
   "cell_type": "markdown",
   "id": "c72d859e",
   "metadata": {},
   "source": [
    "##### tuple"
   ]
  },
  {
   "cell_type": "code",
   "execution_count": null,
   "id": "f6a6f0a4",
   "metadata": {},
   "outputs": [],
   "source": [
    "t = ((20, 30, 40), (20, 30, 40))\n",
    "t2 = ({2,3}, {0,-5}, {0, 0}, (3,3))\n",
    "t3 = 12345, 54321, 'hello!'\n",
    "print(t2) # ({2, 3}, {0, -5}, {0}, (3, 3))\n",
    "print(t2[3][0]) # 3\n",
    "print(t2[0][0]) # error\n",
    "t = tuple()"
   ]
  },
  {
   "cell_type": "code",
   "execution_count": null,
   "id": "63eb39ab",
   "metadata": {},
   "outputs": [],
   "source": [
    "t3 = 12345, 54321, 'hello!'\n",
    "type(t3)\n",
    "t3 = tuple(B)\n",
    "print(t3)"
   ]
  },
  {
   "cell_type": "markdown",
   "id": "e8691a53",
   "metadata": {},
   "source": [
    "##### dictionary - dict"
   ]
  },
  {
   "cell_type": "code",
   "execution_count": 1,
   "id": "9c468bcb",
   "metadata": {},
   "outputs": [
    {
     "name": "stdout",
     "output_type": "stream",
     "text": [
      "(1958, 1962, 1970, 1994, 2002)\n",
      "(1998, 2018)\n",
      "2022\n",
      "['Brazil', 'Germany', 'Itly', 'Argentina', 'France', 'Ethiopia', 'England']\n",
      "[('Brazil', (1958, 1962, 1970, 1994, 2002)), ('Germany', (1954, 1974, 1990, 2014)), ('Itly', (1934, 1938, 1982, 2006)), ('Argentina', (1978, 1986, 2022)), ('France', (1998, 2018)), ('Ethiopia', 2026), ('England', 1966)]\n",
      "{\"Brazil\": [1958, 1962, 1970, 1994, 2002], \"Germany\": [1954, 1974, 1990, 2014], \"Itly\": [1934, 1938, 1982, 2006], \"Argentina\": [1978, 1986, 2022], \"France\": [1998, 2018], \"England\": 1966}\n",
      "['Brazil', 'Germany', 'Itly', 'Argentina', 'France', 'England']\n"
     ]
    }
   ],
   "source": [
    "import json\n",
    "world_cup_tropy = {'Brazil': 5,\n",
    "     'Germany': 4,\n",
    "     'Itly': 4,\n",
    "     'Argentina': 3,\n",
    "     'France': 2\n",
    "    }\n",
    "winner = {'Brazil': (1958, 1962, 1970, 1994, 2002),\n",
    "      'Germany': (1954, 1974, 1990, 2014),\n",
    "      'Itly': (1934, 1938, 1982, 2006),\n",
    "      'Argentina': (1978, 1986, 2022),\n",
    "      'France': (1998, 2018),\n",
    "      'Ethiopia': (2026),       \n",
    "     }\n",
    "\n",
    "# to access k, v\n",
    "print(winner.get('Brazil')) # winner.get('Brazil') y\n",
    "print(winner['France'])\n",
    "print(winner['Argentina'][2])\n",
    "\n",
    "# add new k, v pair\n",
    "winner['England'] = (1966)\n",
    "\n",
    "# get all keys\n",
    "print(list(winner)) # same as `list(winner.keys())`\n",
    "\n",
    "# get all values\n",
    "values = list(winner.values())\n",
    "\n",
    "# get list of k,v\n",
    "arr = list(winner.items())\n",
    "print(arr)\n",
    "\n",
    "# remove k, v\n",
    "del winner['Ethiopia']\n",
    "\n",
    "# size of dict\n",
    "len(winner)\n",
    "\n",
    "# to convert from dict to JSON\n",
    "js = json.dumps(winner)\n",
    "\n",
    "print(js)\n",
    "\n",
    "# to convert from JSON to dict\n",
    "mydict = json.loads(js)\n",
    "print(list(mydict))"
   ]
  },
  {
   "cell_type": "markdown",
   "id": "5ea5cb75",
   "metadata": {},
   "source": [
    "#### range"
   ]
  },
  {
   "cell_type": "code",
   "execution_count": null,
   "id": "d0a77885",
   "metadata": {},
   "outputs": [],
   "source": [
    "r = range(10) #  same as range(0, 10, 1) => [0, 1, 2, 3, 4, 5, 6, 7, 8, 9]\n",
    "\n",
    "r2 = range(20,30,3) # start, stop, step 20, 23 => [20, 23, 26, 29]\n",
    "for index in r2:\n",
    "    print(index)\n",
    "r3 = range(20, 3, -2) # => [20, 18, 16, 14, 12, 10, 8, 6, 4]\n",
    "print(list(r3))"
   ]
  },
  {
   "cell_type": "code",
   "execution_count": 6,
   "id": "2346623f",
   "metadata": {},
   "outputs": [
    {
     "data": {
      "text/plain": [
       "[20, 18, 16, 14, 12, 10, 8, 6, 4]"
      ]
     },
     "execution_count": 6,
     "metadata": {},
     "output_type": "execute_result"
    }
   ],
   "source": [
    "list(range(20, 3, -2))"
   ]
  },
  {
   "cell_type": "markdown",
   "id": "de3b62b5",
   "metadata": {},
   "source": [
    "#### Operators, comparision and logic"
   ]
  },
  {
   "cell_type": "code",
   "execution_count": null,
   "id": "14b8d3e7",
   "metadata": {},
   "outputs": [],
   "source": [
    "# basic: + - * /\n",
    "# special: // % **\n",
    "print(5 % 3) # modulus\n",
    "print(5 // 3) #  integer division\n",
    "print (5**3) # same as `pow(5,3)`\n",
    "\n",
    "print(divmod(10, 3)) # (3, 1) tuple of the value of integer division and modulus\n",
    "\n",
    "# overload\n",
    "print('Hello '*3) # 'Hello Hello Hello'\n",
    "print([1,2,3] + [6,7,8]) # [1,2,3,6,7,8]\n",
    "\n",
    "# logical operators\n",
    "# or, and, not\n",
    "\n",
    "# equality operators\n",
    "#     <    >        <=      >=     ==   !="
   ]
  },
  {
   "cell_type": "markdown",
   "id": "ce784984",
   "metadata": {},
   "source": [
    "### Flow Control"
   ]
  },
  {
   "cell_type": "code",
   "execution_count": null,
   "id": "6b5a8a6f",
   "metadata": {},
   "outputs": [],
   "source": [
    "# if  ... elif ... else\n",
    "status_code = 444\n",
    "if status_code >=100 and status_code <=199:\n",
    "    print('Informational responses')\n",
    "elif status_code >=200 and status_code <=299:\n",
    "    print('Successful response')\n",
    "elif status_code >=300 and status_code <=399:\n",
    "    print('Redirection messages')\n",
    "elif status_code >=400 and status_code <=499:\n",
    "    print('Client error responses')\n",
    "elif status_code >=500 and status_code <=599:\n",
    "    print('Server error responses')\n",
    "else:\n",
    "    print('Invalid status code')"
   ]
  },
  {
   "cell_type": "code",
   "execution_count": null,
   "id": "abbc38e3",
   "metadata": {},
   "outputs": [],
   "source": [
    "# same as above\n",
    "status_code = 444\n",
    "if status_code < 100 or status_code > 599:\n",
    "    print('Invalid status code')\n",
    "elif status_code <=199:\n",
    "    print('Informational responses')\n",
    "elif status_code <=299:\n",
    "    print('Successful response')\n",
    "elif status_code <=399:\n",
    "    print('Redirection messages')\n",
    "elif status_code <=499:\n",
    "    print('Client error responses')\n",
    "elif status_code <=599:\n",
    "    print('Server error responses')\n"
   ]
  },
  {
   "cell_type": "code",
   "execution_count": 7,
   "id": "588db0b5",
   "metadata": {},
   "outputs": [
    {
     "name": "stdout",
     "output_type": "stream",
     "text": [
      "Server side issues\n"
     ]
    }
   ],
   "source": [
    "# match ... case only availabe 3.10 and beyond\n",
    "response_code = 502\n",
    "match response_code:\n",
    "    case 200:\n",
    "        print(\"OK\")\n",
    "    case 300 | 307:\n",
    "        print(\"Redirect\")\n",
    "    case 404:\n",
    "        print(\"404 Not Found\")\n",
    "    case 500 | 502:\n",
    "        print(\"Server side issues\")\n",
    "    case default:\n",
    "        print(\"Unrecognized response\")\n",
    "        \n"
   ]
  },
  {
   "cell_type": "code",
   "execution_count": null,
   "id": "97efa8b6",
   "metadata": {},
   "outputs": [],
   "source": [
    "# looping\n",
    "n = [20,19,18,200,16,15,14,13,12,110]\n",
    "for i in n:\n",
    "    print(i)\n",
    "\n",
    "for i in range(5):\n",
    "    print(i)\n",
    "# 0,1,2,3,4\n",
    "\n",
    "# while\n",
    "j = 20\n",
    "while j > 10:\n",
    "    print(j)\n",
    "    j-=1\n",
    "#20,19,18,17,16,15,14,13,12,11"
   ]
  },
  {
   "cell_type": "code",
   "execution_count": 9,
   "id": "bb3aca47",
   "metadata": {},
   "outputs": [
    {
     "name": "stdout",
     "output_type": "stream",
     "text": [
      "0\n",
      "1\n",
      "2\n",
      "3\n",
      "4\n"
     ]
    }
   ],
   "source": [
    "for i in range(5):\n",
    "    print(i)"
   ]
  },
  {
   "cell_type": "markdown",
   "id": "18bc0b14",
   "metadata": {},
   "source": [
    "#### comprehension"
   ]
  },
  {
   "cell_type": "code",
   "execution_count": null,
   "id": "6fc15f52",
   "metadata": {},
   "outputs": [],
   "source": [
    "# with list\n",
    "l = [1, 2, 3, 4, 5, 6]\n",
    "\n",
    "# square only odd elements else leave as is\n",
    "l2 = [i**2 if i % 2 != 0 else i for i in l]\n",
    "print(l2)\n",
    "\n",
    "# filter only even numbers and triple them\n",
    "l3 = [pow(i,3) for i in l if i % 2 == 0]\n",
    "print(l3)\n",
    "# with set\n",
    "s = {7,8,9,10}\n",
    "s2 = {i**2 if i % 2 != 0 else i for i in s}\n",
    "print(s2)\n",
    "\n",
    "# with tuple\n",
    "t = 1,2,3,4\n",
    "t2 = list(i**2 if i % 2 != 0 else i for i in t)\n",
    "print(t2)\n",
    "\n",
    "# with dic\n",
    "d = {'Brazil': 5,\n",
    "     'Germany': 4,\n",
    "     'Itly': 4,\n",
    "     'Argentina': 3,\n",
    "     'France': 2\n",
    "    }\n",
    "d2 = {k: v*v for (k, v) in d.items()}\n",
    "print(d2)"
   ]
  },
  {
   "cell_type": "markdown",
   "id": "e70014e6",
   "metadata": {},
   "source": [
    "#### zip"
   ]
  },
  {
   "cell_type": "code",
   "execution_count": null,
   "id": "59c27b28",
   "metadata": {},
   "outputs": [],
   "source": [
    "a = ['Store_a', 'Store_b', 'Store_c', 'Store_d']\n",
    "sales = [22,50,43,90]\n",
    "mydict = {i:j for (i, j) in zip(a, sales)}\n",
    "print(mydict)"
   ]
  },
  {
   "cell_type": "markdown",
   "id": "1a89b6d6",
   "metadata": {},
   "source": [
    "#### standars library - built-in functions; do not require importing\n"
   ]
  },
  {
   "cell_type": "code",
   "execution_count": null,
   "id": "1c064c14",
   "metadata": {},
   "outputs": [],
   "source": [
    "# abs, pow, float, int, max, min, sum, bin,oct, ord,hex, divmod, bool, \n",
    "# bytes, list, str, set, tuple, dict,range\n",
    "# len,all,any,map,slice,sorted, filter, zip,reversed\n",
    "# help, id, input,iter, next, type, dir, classmethod, staticmethod, super, print, repr,vars, property, open, format, object\n",
    "\n",
    "#others https://docs.python.org/3/library/functions.html\n",
    "with open('hello.py', 'r') as f:\n",
    "    print(f.read())"
   ]
  },
  {
   "cell_type": "code",
   "execution_count": null,
   "id": "cba91b71",
   "metadata": {},
   "outputs": [],
   "source": [
    "res = [x % 2 == 0 for x in range(9)]\n",
    "all(res)\n",
    "any(res)\n",
    "\n",
    "nums = [5,1,3,2,4]\n",
    "print(f'minimum vlaue: {min(nums)}')\n",
    "print(f'maximum value: {max(nums)}')\n",
    "print(f'sum of numbers: {sum(nums)}')\n",
    "print(f'original list: {nums}')\n",
    "reversed(nums)\n",
    "print(f'reversed list: {list(reversed(nums))}') # returns iterator to the reversed list\n",
    "print(f'sorted list: {sorted(nums)}')\n",
    "print(f'original list: {nums}')"
   ]
  },
  {
   "cell_type": "markdown",
   "id": "4389e0c5",
   "metadata": {},
   "source": [
    "#### Other standard library - distributed with python - require importing"
   ]
  },
  {
   "cell_type": "code",
   "execution_count": null,
   "id": "bc4ed44d",
   "metadata": {},
   "outputs": [],
   "source": [
    "# statistics, math, itertools, random, fractions, fanctools, pathlib, os.path,  glob, stat, shutil \n",
    "'''\n",
    "import [\n",
    "comb, factorial, floor, fsum, gcd, isfinite, isinf, isnan, isqrt, lcm\n",
    "modf, perm, prod, reminder, cbrt, exp, exp2,log, loglp, log2, log10,pow, sqrt,\n",
    "cos, dist,sin,tan,pi,e, tau, inf, \n",
    "]\n",
    "\n",
    "from math\n",
    "'''\n",
    "from math import log2\n",
    "from math import comb\n",
    "print(log2(8))\n",
    "print(comb(10,6))\n",
    "\n",
    "from glob import glob\n",
    "glob('*.py')\n"
   ]
  },
  {
   "cell_type": "code",
   "execution_count": null,
   "id": "26d8cb3c",
   "metadata": {},
   "outputs": [],
   "source": [
    "import glob\n",
    "glob.glob('*.py')\n",
    "\n",
    "#shutil\n",
    "# copyfile, copymod, copystat, copy, copy2, copytree, rmtree, move, dist_usage, ignore_patterns, make_archive\n",
    "# chown, which, \n",
    "from shutil import copyfile\n",
    "copyfile('hello.py', 'hello2.py')\n",
    "\n",
    "from shutil import disk_usage\n",
    "disk_usage('.')"
   ]
  },
  {
   "cell_type": "code",
   "execution_count": null,
   "id": "24ad8c75",
   "metadata": {},
   "outputs": [],
   "source": [
    "# sys\n",
    "# path, modules, version, argv, exit,stdin, stdout, stderr, os\n",
    "import sys\n",
    "import math\n",
    "import os\n",
    "from sys import path\n",
    "print(sys.int_info)\n",
    "#print(path)\n",
    "#print(modules)\n",
    "#print(argv)\n",
    "#print(os.environ.keys())\n",
    "#print(os.uname()) # unix only\n",
    "print(os.getcwd())\n",
    "print(os.getlogin())\n",
    "print(f'{math.log2(3): .50}')"
   ]
  },
  {
   "cell_type": "code",
   "execution_count": null,
   "id": "2d2023c4",
   "metadata": {},
   "outputs": [],
   "source": [
    "from http import client\n",
    "\n",
    "# client\n",
    "conn = client.HTTPSConnection('www.google.com')\n",
    "conn.request(\"GET\",\"/\")\n",
    "res = conn.getresponse()\n",
    "print(res.status, res.reason)\n",
    "print(res.read())\n"
   ]
  },
  {
   "cell_type": "code",
   "execution_count": null,
   "id": "112968a3",
   "metadata": {},
   "outputs": [],
   "source": [
    "# unittest, pydoc, wave, tutle, uuid, ftplib, smtplib, ipaddress\n"
   ]
  },
  {
   "cell_type": "code",
   "execution_count": null,
   "id": "d75ea6dc",
   "metadata": {},
   "outputs": [],
   "source": [
    "def sumn(x, y):\n",
    "    s = x + y\n",
    "    print(f'address of s in sumn is {id(s)}')\n",
    "    i, j = x, y\n",
    "    print(f'address of i in sumn is {id(i)}')\n",
    "    print(f'address of j in sumn is {id(j)}')\n",
    "    return s\n",
    "def sq(x, y):\n",
    "    i, j = x, y\n",
    "    total = sumn(x, y)\n",
    "    square = total * total\n",
    "    print(f'address of total in sq is {id(total)}')\n",
    "    print(f'address of i in sq is {id(i)}')\n",
    "    print(f'address of j in sq is {id(j)}')\n",
    "    return square \n",
    "def main(x, y):\n",
    "    i, j = x, y\n",
    "    result = sq(x, y)\n",
    "    print(f'address of i in main is {id(i)}')\n",
    "    print(f'address of j in main is {id(j)}')\n",
    "    print(f'address of result in main is {id(result)}')\n",
    "    return result\n",
    "x = 3\n",
    "y = 4\n",
    "print(f'address of x in global scope is {id(x)}')\n",
    "print(f'address of y in global scope is {id(y)}')\n",
    "outcome = main(x,y)\n",
    "print(f'address of outcome in global scope is {id(outcome)}')      \n",
    "          "
   ]
  },
  {
   "cell_type": "code",
   "execution_count": null,
   "id": "84136bfe",
   "metadata": {},
   "outputs": [],
   "source": [
    "# functions\n",
    "# comprehension for looping\n",
    "# class and object oriented programming\n",
    "# exception handling and debugging\n",
    "# working with modules\n",
    "# advanced\n",
    "# - functools\n",
    "# - creating own modules\n",
    "# - working with "
   ]
  }
 ],
 "metadata": {
  "kernelspec": {
   "display_name": "Python 3 (ipykernel)",
   "language": "python",
   "name": "python3"
  },
  "language_info": {
   "codemirror_mode": {
    "name": "ipython",
    "version": 3
   },
   "file_extension": ".py",
   "mimetype": "text/x-python",
   "name": "python",
   "nbconvert_exporter": "python",
   "pygments_lexer": "ipython3",
   "version": "3.10.8"
  }
 },
 "nbformat": 4,
 "nbformat_minor": 5
}
